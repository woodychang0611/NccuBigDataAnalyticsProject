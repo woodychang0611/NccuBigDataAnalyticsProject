{
 "cells": [
  {
   "cell_type": "code",
   "execution_count": 1,
   "metadata": {},
   "outputs": [],
   "source": [
    "import os\n",
    "import numpy as np\n",
    "from gen1_preprocessor import Preprocessor\n",
    "from gen1_classifier import Classifier\n",
    "from sklearn.metrics import roc_curve, auc\n",
    "from sklearn.metrics import classification_report\n",
    "from sklearn.model_selection import cross_validate\n",
    "import matplotlib.pyplot as plt\n",
    "import glob"
   ]
  },
  {
   "cell_type": "code",
   "execution_count": 2,
   "metadata": {},
   "outputs": [
    {
     "name": "stdout",
     "output_type": "stream",
     "text": [
      "Traning Set:/workspace/training\n",
      "Testing Set:/workspace/training\n"
     ]
    }
   ],
   "source": [
    "preprocessor = Preprocessor(use_pca=False)\n",
    "classifier = Classifier()\n",
    "current_path = os.path.abspath('')\n",
    "traning_set_path = os.path.join(current_path,\"training\")\n",
    "testing_set_path = os.path.join(current_path,\"training\")\n",
    "\n",
    "print (f'Traning Set:{traning_set_path}')\n",
    "print (f'Testing Set:{testing_set_path}')"
   ]
  },
  {
   "cell_type": "code",
   "execution_count": 3,
   "metadata": {},
   "outputs": [
    {
     "name": "stdout",
     "output_type": "stream",
     "text": [
      "load data src:/workspace/training, limit:None\n"
     ]
    },
    {
     "data": {
      "text/plain": [
       "(5802, 12420)"
      ]
     },
     "execution_count": 3,
     "metadata": {},
     "output_type": "execute_result"
    }
   ],
   "source": [
    "x_traning,y_traning = preprocessor.load_training_data(traning_set_path,limit=None)\n",
    "x_traning.shape"
   ]
  },
  {
   "cell_type": "code",
   "execution_count": 4,
   "metadata": {},
   "outputs": [],
   "source": [
    "#test_data,y_test = preprocessor.load_testing_data(testing_set_path,limit=1000,hasLabel=True)\n",
    "test_count = 700\n",
    "test_data,y_test = x_traning[:test_count],y_traning[:test_count]\n",
    "x,y =x_traning[test_count:,:],y_traning[test_count:]\n",
    "\n",
    "classifier.fit(x,y)\n",
    "y_test_predictions = classifier.predict(test_data)\n",
    "y_test_predict_probabilities = classifier.predict_proba(test_data)"
   ]
  },
  {
   "cell_type": "code",
   "execution_count": 5,
   "metadata": {},
   "outputs": [
    {
     "name": "stdout",
     "output_type": "stream",
     "text": [
      "Accuracy: 0.86\n",
      "Classification report:\n",
      "              precision    recall  f1-score   support\n",
      "\n",
      "           0       0.86      0.93      0.90       453\n",
      "           1       0.85      0.73      0.79       247\n",
      "\n",
      "    accuracy                           0.86       700\n",
      "   macro avg       0.86      0.83      0.84       700\n",
      "weighted avg       0.86      0.86      0.86       700\n",
      "\n",
      "(700,)\n",
      "(700,)\n"
     ]
    },
    {
     "data": {
      "image/png": "[encoded data removed]",
      "text/plain": [
       "<Figure size 432x288 with 1 Axes>"
      ]
     },
     "metadata": {
      "needs_background": "light"
     },
     "output_type": "display_data"
    }
   ],
   "source": [
    "print ('Accuracy:',(y_test_predictions == y_test).sum().astype(float)/(y_test.shape[0]))\n",
    "print ('Classification report:')\n",
    "print (classification_report(y_test, y_test_predictions))\n",
    "print(y_test.shape)\n",
    "print(y_test_predictions.shape)\n",
    "#Not sure if this is correct to map score \n",
    "y_score = y_test_predict_probabilities[:,1]\n",
    "false_positive_rate, true_positive_rate, thresholds = roc_curve(y_test, y_score)\n",
    "roc_auc = auc(false_positive_rate, true_positive_rate)\n",
    "# Plotting\n",
    "plt.title('ROC')\n",
    "plt.plot(false_positive_rate, true_positive_rate, c='navy', label=('AUC-'+'= %0.2f'%roc_auc))\n",
    "plt.legend(loc='lower right', prop={'size':8})\n",
    "plt.plot([0,1],[0,1], color='lightgrey', linestyle='--')\n",
    "plt.xlim([-0.05,1.0])\n",
    "plt.ylim([0.0,1.05])\n",
    "plt.ylabel('True Positive Rate')\n",
    "plt.xlabel('False Positive Rate')\n",
    "plt.show()"
   ]
  },
  {
   "cell_type": "code",
   "execution_count": null,
   "metadata": {},
   "outputs": [
    {
     "name": "stdout",
     "output_type": "stream",
     "text": [
      "10\n",
      "0.9340908786639799\n",
      "{'fit_time': array([7.520432  , 7.42486119, 7.3576014 , 7.18485045, 7.2317636 ]), 'score_time': array([0.10914683, 0.10918236, 0.10694551, 0.11028218, 0.10774446]), 'test_score': array([0.92753082, 0.92518756, 0.94770447, 0.92949729, 0.94053425])}\n",
      "100\n",
      "0.9355119249998616\n",
      "{'fit_time': array([7.20741844, 7.03430223, 7.19797325, 6.94246626, 7.06805491]), 'score_time': array([0.05859661, 0.05684876, 0.0577209 , 0.05675626, 0.05707097]), 'test_score': array([0.9268599 , 0.92731104, 0.94649508, 0.93391406, 0.94297955])}\n",
      "200\n",
      "0.9345348712359047\n",
      "{'fit_time': array([7.7948494 , 7.83595157, 8.05651951, 7.71461558, 8.03600001]), 'score_time': array([0.05181313, 0.05199218, 0.05282974, 0.05311418, 0.05267262]), 'test_score': array([0.9227121 , 0.92609809, 0.94671045, 0.9356271 , 0.94152662])}\n",
      "300\n",
      "0.9333725350126638\n",
      "{'fit_time': array([8.69045258, 8.57399607, 8.94168448, 8.46426034, 8.79551101]), 'score_time': array([0.05008435, 0.04958081, 0.05148244, 0.04968643, 0.05074453]), 'test_score': array([0.92491324, 0.92127111, 0.94304582, 0.93465461, 0.94297789])}\n",
      "auto\n",
      "0.9363235725625602\n",
      "{'fit_time': array([7.21257019, 7.16180801, 7.18169665, 7.09344864, 7.15531516]), 'score_time': array([0.05684328, 0.05650568, 0.05610013, 0.05677271, 0.05692577]), 'test_score': array([0.92739862, 0.92769607, 0.94995096, 0.93573312, 0.94083909])}\n"
     ]
    }
   ],
   "source": [
    "x,y=x_traning[:],y_traning[:]\n",
    "max_features_options = (10,100,200,300,'auto',None,'log2')\n",
    "for n in max_features_options:\n",
    "    classifier = Classifier(max_features=n)\n",
    "    score = cross_validate(classifier.model,x,y,cv=5,scoring=('roc_auc'))\n",
    "    avg = np.average(score['test_score'])\n",
    "    print(n)\n",
    "    print(avg)\n",
    "    print(score)"
   ]
  },
  {
   "cell_type": "code",
   "execution_count": null,
   "metadata": {},
   "outputs": [],
   "source": []
  },
  {
   "cell_type": "code",
   "execution_count": null,
   "metadata": {},
   "outputs": [],
   "source": []
  }
 ],
 "metadata": {
  "kernelspec": {
   "display_name": "Python 3",
   "language": "python",
   "name": "python3"
  },
  "language_info": {
   "codemirror_mode": {
    "name": "ipython",
    "version": 3
   },
   "file_extension": ".py",
   "mimetype": "text/x-python",
   "name": "python",
   "nbconvert_exporter": "python",
   "pygments_lexer": "ipython3",
   "version": "3.6.8"
  }
 },
 "nbformat": 4,
 "nbformat_minor": 4
}

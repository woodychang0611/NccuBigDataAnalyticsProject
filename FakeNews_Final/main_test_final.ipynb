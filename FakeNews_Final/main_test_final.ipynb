{
 "cells": [
  {
   "cell_type": "code",
   "execution_count": 1,
   "metadata": {},
   "outputs": [],
   "source": [
    "import os\n",
    "import numpy as np\n",
    "from gen3_preprocessor import Preprocessor\n",
    "from gen1_classifier import Classifier\n",
    "from sklearn.metrics import roc_curve, auc\n",
    "from sklearn.metrics import classification_report\n",
    "from sklearn.model_selection import cross_validate\n",
    "import matplotlib.pyplot as plt\n",
    "import glob\n",
    "from scipy import sparse\n",
    "import random"
   ]
  },
  {
   "cell_type": "code",
   "execution_count": 2,
   "metadata": {},
   "outputs": [
    {
     "name": "stdout",
     "output_type": "stream",
     "text": [
      "Traning Set:C:\\Users\\Woody\\Documents\\git repository\\NccuBigDataAnalyticsProject\\FakeNews_Final\\training\n",
      "Testing Set:C:\\Users\\Woody\\Documents\\git repository\\NccuBigDataAnalyticsProject\\FakeNews_Final\\testing\n"
     ]
    }
   ],
   "source": [
    "preprocessor = Preprocessor(pca_n_components=None)\n",
    "classifier = Classifier()\n",
    "current_path = os.path.abspath('')\n",
    "traning_set_path = os.path.join(current_path,\"training\")\n",
    "testing_set_path = os.path.join(current_path,\"testing\")\n",
    "\n",
    "print (f'Traning Set:{traning_set_path}')\n",
    "print (f'Testing Set:{testing_set_path}')"
   ]
  },
  {
   "cell_type": "code",
   "execution_count": 3,
   "metadata": {},
   "outputs": [
    {
     "name": "stdout",
     "output_type": "stream",
     "text": [
      "load data src:C:\\Users\\Woody\\Documents\\git repository\\NccuBigDataAnalyticsProject\\FakeNews_Final\\training, limit:None\n",
      "5802 data read\n",
      "vocabulary_traning len 12156\n",
      "vocabulary_testing len 2241\n",
      "vocabulary_table len 950\n",
      "{'mins': 0, 'stand': 1, 'line': 2, 'check': 3, 'inevitable': 4, 'victim': 5, 'controversial': 6, 'fake': 7, 'play': 8, 'hey': 9, 'times': 10, 'flee': 11, 'confirmed': 12, 'burning': 13, 'declare': 14, 'fan': 15, 'monitor': 16, 'person': 17, 'rumours': 18, 'psychiatric': 19, 'way': 20, '1st': 21, 'im': 22, 'cares': 23, 'outside': 24, 'agreed': 25, 'minute': 26, 'gives': 27, 'flag': 28, 'bridge': 29, 'doing': 30, 'tweet': 31, 'nov': 32, 'concerned': 33, 'friday': 34, 'kept': 35, 'images': 36, 'confused': 37, 'tv': 38, 'holding': 39, 'terms': 40, 'watching': 41, 'thing': 42, 'today': 43, 'london': 44, 'immediately': 45, 'patrick': 46, 'union': 47, 'jokes': 48, 'returned': 49, 'rolled': 50, 'city': 51, 'living': 52, 'riot': 53, 'provided': 54, 'public': 55, 'tour': 56, 'cards': 57, 'likely': 58, 'situation': 59, 'enemy': 60, 'party': 61, 'reports': 62, 'apologize': 63, 'lying': 64, 'based': 65, 'offended': 66, 'pull': 67, 'ch': 68, 'filed': 69, 'germany': 70, 'saying': 71, 'gear': 72, 'arrived': 73, 'removed': 74, 'amid': 75, 'takes': 76, 'excited': 77, 'yr': 78, 'french': 79, 'short': 80, 'wet': 81, 'pictures': 82, 'rocks': 83, 'st': 84, 'friends': 85, 'tonight': 86, 'long': 87, 'meant': 88, 'proof': 89, 'talk': 90, 'hasn': 91, '92': 92, '2014': 93, 'staged': 94, 'government': 95, 'missing': 96, 'fight': 97, 'russia': 98, 'remember': 99, 'pretty': 100, 'internal': 101, 'duty': 102, 'tweeted': 103, 'unit': 104, 'crazy': 105, 'stay': 106, 'accepted': 107, 'soviet': 108, 'europe': 109, 'send': 110, 'best': 111, 'music': 112, 'picture': 113, 'crew': 114, 'dealt': 115, 'close': 116, 'looking': 117, 'freaking': 118, 'need': 119, 'ground': 120, 'surprise': 121, 'babies': 122, 'world': 123, 'sound': 124, 'taken': 125, 'twist': 126, 'announce': 127, 'shit': 128, 'el': 129, 'killing': 130, 'book': 131, 'left': 132, 'magazine': 133, 'gonna': 134, 'scenario': 135, 'begin': 136, 'police': 137, 'good': 138, 'statement': 139, 'mt': 140, 'military': 141, 'suspect': 142, 'yeah': 143, 'fans': 144, 'complex': 145, 'went': 146, 'resolution': 147, 'cancels': 148, 'omg': 149, 'exclusive': 150, 'opened': 151, 'plans': 152, 'black': 153, 'initially': 154, 'going': 155, 'gt': 156, 'afternoon': 157, 'google': 158, 'later': 159, 'suspicion': 160, 'claimed': 161, 'needs': 162, 'puts': 163, 'conference': 164, 'indicate': 165, 'days': 166, 'wrong': 167, 'harper': 168, 'stage': 169, 'real': 170, 'private': 171, 'ring': 172, 'weekend': 173, 'smh': 174, 'away': 175, 'country': 176, 'satirical': 177, 'explain': 178, 'senior': 179, 'threaten': 180, 'cap': 181, 'admits': 182, 'trump': 183, 'gone': 184, 'hitting': 185, 'post': 186, 'radical': 187, 'gallery': 188, 'nature': 189, 'file': 190, 'amp': 191, 'building': 192, 'facebook': 193, 'appear': 194, 'williams': 195, 'force': 196, 'social': 197, 'neverforget': 198, 'difficult': 199, 'newspaper': 200, 'seized': 201, 'house': 202, 'certainly': 203, 'asking': 204, 'popular': 205, 'fool': 206, 'called': 207, 'starts': 208, 'bears': 209, 'november': 210, 'large': 211, 'response': 212, 'wife': 213, 'reported': 214, 'completely': 215, 'control': 216, 'sign': 217, 'thats': 218, '99': 219, 'literally': 220, 'gotta': 221, 'come': 222, 'case': 223, 'history': 224, 'weird': 225, 'bbcdaniels': 226, 'series': 227, 'estate': 228, 'hundreds': 229, 'gut': 230, 'raised': 231, 'location': 232, 'sell': 233, 'sounds': 234, 'fallen': 235, 'ft': 236, 'press': 237, 'pls': 238, 'tomorrow': 239, 'various': 240, 'warned': 241, 'pics': 242, 'sold': 243, 'cartoon': 244, 'training': 245, 'hands': 246, 'add': 247, 'playing': 248, 'missed': 249, 'feed': 250, 'nyt': 251, 'haven': 252, 'illness': 253, 'signed': 254, 'gta': 255, 'win': 256, 'speculation': 257, 'swimming': 258, 'bar': 259, 'blood': 260, 'slaves': 261, 'reportedly': 262, 'cause': 263, 'got': 264, 'telling': 265, 'holds': 266, 'michael': 267, 'declaration': 268, 'strongly': 269, 'drug': 270, 'turns': 271, 'brian': 272, 'current': 273, 'pre': 274, '88': 275, 'express': 276, 'treat': 277, 'death': 278, 'emerging': 279, 'standing': 280, 'uk': 281, 'rule': 282, 'donated': 283, 'apartment': 284, 'little': 285, 'appearance': 286, 'silence': 287, 'crossed': 288, 'caricatures': 289, 'hard': 290, 'want': 291, 'breaking': 292, 'child': 293, 'flood': 294, 'leaves': 295, 'impossible': 296, 'chance': 297, 'baby': 298, 'ok': 299, 'washington': 300, 'jerusalem': 301, 'better': 302, 'suggesting': 303, 'coming': 304, 'eyes': 305, 'occupation': 306, 'pulled': 307, 'referring': 308, 'right': 309, 'seen': 310, 'website': 311, 'charge': 312, 'tell': 313, 'pjnet': 314, 'benefit': 315, 'rick': 316, 'form': 317, 'caught': 318, 'according': 319, 'ukraine': 320, '3rd': 321, 'yorker': 322, 'dare': 323, 'riots': 324, 'whereabouts': 325, 'american': 326, 'continued': 327, 'story': 328, 'unfortunately': 329, 'pay': 330, 'negotiations': 331, 'bit': 332, 'question': 333, 'search': 334, 'family': 335, 'tanks': 336, 'prince': 337, 'kids': 338, 'truth': 339, 'rational': 340, 'forbes': 341, 'justice': 342, 'urged': 343, 'word': 344, 'canadians': 345, 'handed': 346, 'culture': 347, 'told': 348, 'years': 349, 'hearing': 350, 'afp': 351, 'happening': 352, 'video': 353, 'l0gg0l': 354, 'general': 355, 'sick': 356, 'look': 357, 'fly': 358, 'activist': 359, 'obviously': 360, 'list': 361, 'possibly': 362, 'hearts': 363, 'torontostar': 364, 'toronto': 365, 'doesn': 366, 'thinks': 367, 'conservative': 368, 'national': 369, 'considered': 370, 'info': 371, 'return': 372, 'inside': 373, 'busy': 374, 'leave': 375, 'developing': 376, 'rotten': 377, 'blocks': 378, 'ppl': 379, 'message': 380, 'won': 381, 'aged': 382, 'nigerian': 383, 'ill': 384, 'just': 385, 'calls': 386, 'did': 387, 'stood': 388, 'fate': 389, 'hope': 390, 'mentally': 391, 'details': 392, 'gift': 393, 'ex': 394, 'abc': 395, 'shot': 396, 'boy': 397, 'really': 398, 'christopher': 399, 'parade': 400, 'mayor': 401, 'price': 402, 'tried': 403, 'quickly': 404, 'fun': 405, 'affiliated': 406, 'investigate': 407, 'appears': 408, 'faces': 409, 'crowds': 410, 'block': 411, 'continue': 412, 'ago': 413, 'friend': 414, 'performing': 415, 'cp24': 416, 'amidst': 417, 'run': 418, 'checking': 419, 'forcing': 420, '24': 421, '32': 422, 'talking': 423, 'comment': 424, 'challenge': 425, 'terrible': 426, 'clowns': 427, 'known': 428, 'place': 429, 'mo': 430, 'transparency': 431, 'clothes': 432, 'hit': 433, 'started': 434, 'office': 435, 'chosen': 436, 'yanukovych': 437, 'institution': 438, 'say': 439, 'rt': 440, 'produced': 441, 'jimgeraghty': 442, 'donald': 443, 'minister': 444, 'guess': 445, 'given': 446, 'suggests': 447, 'hello': 448, 'ups': 449, 'knows': 450, 'israel': 451, 'pledges': 452, 'sports': 453, 'usual': 454, 'net': 455, 'tabloid': 456, 'lie': 457, 'major': 458, 'putin': 459, 'leaving': 460, 'scenes': 461, 'poll': 462, 'experienced': 463, 'folks': 464, 'street': 465, 'wants': 466, 'took': 467, 'painful': 468, 'downtown': 469, 'hear': 470, 'answer': 471, 'spread': 472, 'arts': 473, 'day': 474, 'mad': 475, 'twitter': 476, 'interview': 477, 'attention': 478, 'inquiry': 479, 'probably': 480, 'path': 481, 'thought': 482, 'new': 483, 'colour': 484, 'owners': 485, 'deleted': 486, 'hall': 487, 'international': 488, 'banned': 489, 'rampant': 490, 'vehicles': 491, 'security': 492, '144': 493, 'didn': 494, 'sure': 495, 'order': 496, 'prefer': 497, 'pool': 498, 'release': 499, 'confirms': 500, 'gop': 501, 'relatives': 502, 'mr': 503, 'opera': 504, 'launch': 505, 'support': 506, 'panic': 507, 'anchor': 508, 'shooting': 509, 'president': 510, 'expert': 511, 'merkel': 512, 'scared': 513, 'oh': 514, 'reasons': 515, 'stop': 516, 'needed': 517, 'republicans': 518, 'sorrow': 519, 'built': 520, 'director': 521, 'yes': 522, 'remind': 523, 'questions': 524, 'radicals': 525, 'journalists': 526, 'challenged': 527, 'internet': 528, 'involved': 529, 'looks': 530, 'ranks': 531, 'died': 532, 'groups': 533, 'highlight': 534, 'buy': 535, 'prevents': 536, 'lt': 537, 'cbc': 538, 'week': 539, 'dropped': 540, 'ap': 541, 'telegraph': 542, 'finds': 543, 'strange': 544, 'south': 545, 'charges': 546, 'wonder': 547, 'flying': 548, '12': 549, 'cc': 550, 'suspected': 551, 'wish': 552, 'artwork': 553, 'free': 554, 'evening': 555, 'weigh': 556, 'somebody': 557, 'plot': 558, 'warns': 559, 'tweets': 560, 'woman': 561, 'happens': 562, 'declares': 563, 'link': 564, 'suffering': 565, 'space': 566, 'rep': 567, 'met': 568, 'hours': 569, 've': 570, 'judge': 571, 'hold': 572, 'park': 573, 'typical': 574, 'management': 575, 'mean': 576, 'escaped': 577, 'joint': 578, '10': 579, 'court': 580, 'citynews': 581, 'tea': 582, 'does': 583, '19': 584, 'ready': 585, 'region': 586, 'll': 587, 'make': 588, 'concert': 589, 'accept': 590, 'clear': 591, 'think': 592, 'lines': 593, 'health': 594, 'quite': 595, 'secret': 596, 'heard': 597, 'decision': 598, 'welp': 599, 'father': 600, 'nice': 601, 'ask': 602, 'armored': 603, 'work': 604, 'lots': 605, 'things': 606, 'star': 607, 'fyi': 608, 'works': 609, 'obama': 610, 'scare': 611, 'extremism': 612, 'frontpage': 613, 'man': 614, 'following': 615, 'summary': 616, 'killed': 617, 'officials': 618, 'despite': 619, 'watch': 620, 'broke': 621, 'pleased': 622, 'power': 623, 'cancelled': 624, 'hashtags': 625, 'article': 626, 'blamed': 627, 'goes': 628, 'amazing': 629, 'bad': 630, 'judaism': 631, 'decided': 632, 'understand': 633, 'enter': 634, 'loaded': 635, 'possible': 636, 'fr': 637, 'facing': 638, 'reminder': 639, 'mind': 640, 'daily': 641, 'oct': 642, 'investigating': 643, 'states': 644, 'comments': 645, 'tuesday': 646, 'storm': 647, 'fast': 648, 'months': 649, 'politics': 650, 'oil': 651, 'total': 652, 'page': 653, 'imagine': 654, 'tcot': 655, 'pending': 656, 'great': 657, 'original': 658, 'home': 659, 'came': 660, 'art': 661, 'head': 662, 'trap': 663, 'selfie': 664, 'showing': 665, 'clearly': 666, 'successful': 667, 'hunt': 668, 'rip': 669, 'preparing': 670, 'brave': 671, 'fit': 672, 'photos': 673, 'makes': 674, 'manage': 675, 'affected': 676, 'pic': 677, 'television': 678, 'middle': 679, 'course': 680, 'construction': 681, 'spin': 682, 'https': 683, 'knowing': 684, 'set': 685, 'reality': 686, 'feeling': 687, 'wtf': 688, 'worrying': 689, 'longer': 690, 'guy': 691, 'scenarios': 692, 'try': 693, 'listen': 694, 'growing': 695, 'artist': 696, 'time': 697, 'reaction': 698, 'lawsuit': 699, 'families': 700, 'cdnpoli': 701, 'night': 702, 'white': 703, 'eve': 704, 'cbcto': 705, 'weapons': 706, 'shortly': 707, 'train': 708, 'tells': 709, 'expect': 710, 'wait': 711, 'contrary': 712, 'old': 713, 'happen': 714, 'surrounding': 715, '6pm': 716, 'trolls': 717, 'collection': 718, 'born': 719, 'jewish': 720, 'update': 721, 'live': 722, 'staff': 723, 'trying': 724, 'tragic': 725, 'shows': 726, 'responsibility': 727, 'rain': 728, 'love': 729, 'getting': 730, 'explanation': 731, 'regarding': 732, 'political': 733, 'confirm': 734, 'local': 735, 'seriously': 736, 'says': 737, 'profits': 738, '5mins': 739, 'closely': 740, 'alert': 741, 'son': 742, 'receive': 743, 'gave': 744, 'recovery': 745, 'vs': 746, 'awaiting': 747, 'die': 748, 'late': 749, 'hell': 750, 'square': 751, 'fully': 752, 'isn': 753, 'board': 754, 'wow': 755, 'nytimes': 756, 'red': 757, 'let': 758, 'streaming': 759, 'doors': 760, 'played': 761, 'named': 762, 'identified': 763, 'dead': 764, 'fox': 765, 'berlin': 766, 'worst': 767, 'battle': 768, 'afraid': 769, 'updated': 770, 'officially': 771, 'don': 772, 'read': 773, 'planning': 774, 'image': 775, 'latest': 776, 'direct': 777, 'pieces': 778, 'wasn': 779, 'actually': 780, 'forced': 781, 'nearly': 782, 'steve': 783, 'blocked': 784, 'girl': 785, 'riding': 786, 'backyard': 787, 'soon': 788, '30': 789, 'fell': 790, 'theory': 791, 'nation': 792, 'crash': 793, 'source': 794, 'seeing': 795, 'department': 796, 'statements': 797, 'forms': 798, 'asked': 799, 'having': 800, 'future': 801, 'year': 802, 'huge': 803, 'quick': 804, 'photographer': 805, 'words': 806, 'giving': 807, 'spotted': 808, 'claim': 809, 'http': 810, 'sorry': 811, 'attend': 812, 'guys': 813, 'tyceemkwoo': 814, 'claims': 815, 'elites': 816, 'videos': 817, 'organizations': 818, 'west': 819, 'official': 820, 'personally': 821, 'money': 822, 'paper': 823, 'released': 824, 'daughter': 825, 'objects': 826, 'deputy': 827, 'supreme': 828, 'deciding': 829, 'said': 830, 'joke': 831, 'idea': 832, 'smoke': 833, 'research': 834, 'disbelief': 835, 'event': 836, 'songs': 837, 'disappeared': 838, 'america': 839, 'finally': 840, 'handling': 841, 'trending': 842, 'stated': 843, 'nato': 844, 'tweeting': 845, 'embassy': 846, 'calling': 847, 'district': 848, 'russian': 849, 'state': 850, 'morning': 851, 'cold': 852, 'stupid': 853, 'like': 854, 'peace': 855, 'apcs': 856, '7am': 857, 'signs': 858, 'start': 859, 'people': 860, 'lawyers': 861, 'yesterday': 862, 'big': 863, 'follow': 864, 'sight': 865, 'maybe': 866, 'helped': 867, 'class': 868, 'balance': 869, 'neutralised': 870, 'react': 871, 'forces': 872, 'remain': 873, 'site': 874, 'july': 875, 'making': 876, 'healthy': 877, 'returning': 878, 'sad': 879, 'plan': 880, '8pm': 881, 'war': 882, 'number': 883, 'allegedly': 884, 'insulted': 885, 'news': 886, 'lot': 887, 'fb': 888, 'register': 889, 'learn': 890, 'sent': 891, 'funny': 892, 'swiftly': 893, 'fall': 894, 'early': 895, 'game': 896, 'closer': 897, 'piece': 898, 'speaks': 899, 'centre': 900, 'entire': 901, 'fine': 902, 'earlier': 903, 'saw': 904, 'waiting': 905, 'moving': 906, 'know': 907, 'write': 908, 'issue': 909, 'true': 910, 'leaders': 911, 'far': 912, 'denying': 913, 'monday': 914, 'hoping': 915, 'club': 916, 'anymore': 917, 'trucks': 918, 'harassment': 919, '70': 920, 'prove': 921, 'investigation': 922, 'stolen': 923, 'doubt': 924, 'leadership': 925, 'threat': 926, 'denied': 927, 'version': 928, 'room': 929, 'media': 930, 'involving': 931, 'delivered': 932, 'ukrainian': 933, 'eat': 934, 'feels': 935, 'organisations': 936, 'taking': 937, 'ontario': 938, 'lead': 939, 'leader': 940, 'false': 941, 'photo': 942, 'codes': 943, 'unconfirmed': 944, 'instead': 945, 'german': 946, 'rumored': 947, 'thinking': 948, 'considering': 949}\n"
     ]
    },
    {
     "name": "stdout",
     "output_type": "stream",
     "text": [
      " traning shape: (5802, 950)\n"
     ]
    }
   ],
   "source": [
    "#x_traning,y_traning = preprocessor.load_training_data(traning_set_path,limit=None)\n",
    "x_traning,y_traning = preprocessor.load_training_data(traning_set_path,testing_set_path,limit=None)\n",
    "\n",
    "print (f' traning shape: {x_traning.shape}')\n"
   ]
  },
  {
   "cell_type": "code",
   "execution_count": 4,
   "metadata": {},
   "outputs": [
    {
     "name": "stdout",
     "output_type": "stream",
     "text": [
      "load data src:C:\\Users\\Woody\\Documents\\git repository\\NccuBigDataAnalyticsProject\\FakeNews_Final\\testing, limit:None, has_label:True\n",
      " testing shape: (623, 950)\n"
     ]
    }
   ],
   "source": [
    "x_testing,y_testing,x_id = preprocessor.load_testing_data(testing_set_path,limit=None,has_label=True)\n",
    "print (f' testing shape: {x_testing.shape}')"
   ]
  },
  {
   "cell_type": "code",
   "execution_count": 5,
   "metadata": {},
   "outputs": [
    {
     "name": "stdout",
     "output_type": "stream",
     "text": [
      "(3957, 950)\n",
      "(3957,)\n"
     ]
    }
   ],
   "source": [
    "#balance the traning set \n",
    "x_traning_true = []\n",
    "y_traning_true =  []\n",
    "x_traning_false =  []\n",
    "y_traning_false = []\n",
    "for x,y in zip(x_traning,y_traning):\n",
    "    if(y==1):\n",
    "        x_traning_true.append(x.toarray())\n",
    "        y_traning_true.append(y)\n",
    "    else:\n",
    "        x_traning_false.append(x.toarray())\n",
    "        y_traning_false.append(y)\n",
    "min_len = min(int(len(x_traning_true)),len(x_traning_false)/30)\n",
    "x_traning_balanced = np.concatenate(x_traning_true[:int(min_len)] +  x_traning_false[:int(min_len*30)])\n",
    "y_traning_balanced = np.array(y_traning_true[:int(min_len)] +  y_traning_false[:int(min_len*30)])\n",
    "#transform to sparse matrix to incrase speed, somehow numpy array is slower\n",
    "x_traning_balanced = sparse.csr_matrix(x_traning_balanced)\n",
    "print(x_traning_balanced.shape)\n",
    "print(y_traning_balanced.shape)"
   ]
  },
  {
   "cell_type": "code",
   "execution_count": 6,
   "metadata": {},
   "outputs": [],
   "source": [
    "classifier.fit(x_traning_balanced,y_traning_balanced)\n",
    "y_test_predictions = classifier.predict(x_testing)\n",
    "y_test_predict_probabilities = classifier.predict_proba(x_testing)"
   ]
  },
  {
   "cell_type": "code",
   "execution_count": 7,
   "metadata": {},
   "outputs": [
    {
     "name": "stdout",
     "output_type": "stream",
     "text": [
      "0.4173354735152488\n",
      "0.6902086677367576\n",
      "0.5280898876404494\n"
     ]
    }
   ],
   "source": [
    "print(np.sum(y_test_predictions)/len(y_test_predictions))\n",
    "print(np.sum(y_testing)/len(y_testing))\n",
    "correct=0\n",
    "sum=0\n",
    "for a,b in zip(y_test_predictions,y_testing):\n",
    "    if (a==b):\n",
    "        correct+=1\n",
    "    sum+=1\n",
    "print(correct/sum)"
   ]
  },
  {
   "cell_type": "code",
   "execution_count": 8,
   "metadata": {},
   "outputs": [
    {
     "name": "stdout",
     "output_type": "stream",
     "text": [
      "Accuracy: 0.5280898876404494\n",
      "Classification report:\n",
      "              precision    recall  f1-score   support\n",
      "\n",
      "           0       0.36      0.68      0.47       193\n",
      "           1       0.76      0.46      0.57       430\n",
      "\n",
      "   micro avg       0.53      0.53      0.53       623\n",
      "   macro avg       0.56      0.57      0.52       623\n",
      "weighted avg       0.64      0.53      0.54       623\n",
      "\n",
      "(623,)\n",
      "(623,)\n"
     ]
    },
    {
     "data": {
      "image/png": "[encoded data removed]",
      "text/plain": [
       "<Figure size 432x288 with 1 Axes>"
      ]
     },
     "metadata": {
      "needs_background": "light"
     },
     "output_type": "display_data"
    }
   ],
   "source": [
    "print ('Accuracy:',(y_test_predictions == y_testing).sum().astype(float)/(y_testing.shape[0]))\n",
    "print ('Classification report:')\n",
    "print (classification_report(y_testing, y_test_predictions))\n",
    "print(y_testing.shape)\n",
    "print(y_test_predictions.shape)\n",
    "#Not sure if this is correct to map score \n",
    "#Random score\n",
    "#y_score = np.random.rand(len(y_testing))\n",
    "y_score = y_test_predict_probabilities[:,1]\n",
    "false_positive_rate, true_positive_rate, thresholds = roc_curve(y_testing, y_score)\n",
    "roc_auc = auc(false_positive_rate, true_positive_rate)\n",
    "# Plotting\n",
    "plt.title('ROC')\n",
    "plt.plot(false_positive_rate, true_positive_rate, c='navy', label=('AUC-'+'= %0.2f'%roc_auc))\n",
    "plt.legend(loc='lower right', prop={'size':8})\n",
    "plt.plot([0,1],[0,1], color='lightgrey', linestyle='--')\n",
    "plt.xlim([-0.05,1.0])\n",
    "plt.ylim([0.0,1.05])\n",
    "plt.ylabel('True Positive Rate')\n",
    "plt.xlabel('False Positive Rate')\n",
    "plt.show()"
   ]
  },
  {
   "cell_type": "code",
   "execution_count": 9,
   "metadata": {},
   "outputs": [
    {
     "name": "stdout",
     "output_type": "stream",
     "text": [
      "('521310417696858112', '1')\n"
     ]
    }
   ],
   "source": [
    "import csv\n",
    "output_list = list(zip(x_id,map(str,y_test_predictions)))\n",
    "print(output_list[0])\n",
    "with open('result.csv', 'w',newline='') as myfile:\n",
    "    wr = csv.writer(myfile, quoting=csv.QUOTE_ALL)\n",
    "    for a,b in output_list:\n",
    "        wr.writerow([a,b])"
   ]
  },
  {
   "cell_type": "code",
   "execution_count": 10,
   "metadata": {},
   "outputs": [
    {
     "name": "stdout",
     "output_type": "stream",
     "text": [
      "('521310417696858112', '1')\n"
     ]
    }
   ],
   "source": [
    "output_list = list(zip(x_id,map(str,y_test_predictions)))\n",
    "print(output_list[0])\n",
    "with open('result.txt', 'w') as myfile:\n",
    "    for a,b in output_list:\n",
    "        myfile.writelines(f\"{a}:{b}\\n\")"
   ]
  },
  {
   "cell_type": "code",
   "execution_count": null,
   "metadata": {},
   "outputs": [],
   "source": []
  }
 ],
 "metadata": {
  "kernelspec": {
   "display_name": "Python 3",
   "language": "python",
   "name": "python3"
  },
  "language_info": {
   "codemirror_mode": {
    "name": "ipython",
    "version": 3
   },
   "file_extension": ".py",
   "mimetype": "text/x-python",
   "name": "python",
   "nbconvert_exporter": "python",
   "pygments_lexer": "ipython3",
   "version": "3.7.3"
  }
 },
 "nbformat": 4,
 "nbformat_minor": 4
}

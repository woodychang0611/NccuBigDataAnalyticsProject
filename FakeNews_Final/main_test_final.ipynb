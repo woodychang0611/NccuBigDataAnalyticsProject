{
 "cells": [
  {
   "cell_type": "code",
   "execution_count": 1,
   "metadata": {},
   "outputs": [],
   "source": [
    "import os\n",
    "import numpy as np\n",
    "from gen3_preprocessor import Preprocessor\n",
    "from gen1_classifier import Classifier\n",
    "from sklearn.metrics import roc_curve, auc\n",
    "from sklearn.metrics import classification_report\n",
    "from sklearn.model_selection import cross_validate\n",
    "import matplotlib.pyplot as plt\n",
    "import glob\n",
    "from scipy import sparse\n",
    "import random"
   ]
  },
  {
   "cell_type": "code",
   "execution_count": 2,
   "metadata": {},
   "outputs": [
    {
     "name": "stdout",
     "output_type": "stream",
     "text": [
      "Traning Set:C:\\Users\\Woody\\Documents\\git repository\\NccuBigDataAnalyticsProject\\FakeNews_Final\\training\n",
      "Testing Set:C:\\Users\\Woody\\Documents\\git repository\\NccuBigDataAnalyticsProject\\FakeNews_Final\\testing\n"
     ]
    }
   ],
   "source": [
    "preprocessor = Preprocessor(pca_n_components=None)\n",
    "classifier = Classifier()\n",
    "current_path = os.path.abspath('')\n",
    "traning_set_path = os.path.join(current_path,\"training\")\n",
    "testing_set_path = os.path.join(current_path,\"testing\")\n",
    "\n",
    "print (f'Traning Set:{traning_set_path}')\n",
    "print (f'Testing Set:{testing_set_path}')"
   ]
  },
  {
   "cell_type": "code",
   "execution_count": 3,
   "metadata": {},
   "outputs": [
    {
     "name": "stdout",
     "output_type": "stream",
     "text": [
      "load data src:C:\\Users\\Woody\\Documents\\git repository\\NccuBigDataAnalyticsProject\\FakeNews_Final\\training, limit:None\n",
      "5802 data read\n",
      "vocabulary_traning len 12156\n",
      "vocabulary_testing len 2241\n",
      "vocabulary_table len 950\n",
      "{'suggests': 0, 'west': 1, '6pm': 2, 'pledges': 3, 'impossible': 4, 'concert': 5, 'ex': 6, 'fans': 7, 'played': 8, 'obama': 9, 'holding': 10, 'union': 11, 'news': 12, 'love': 13, 'statement': 14, 'manage': 15, 'trolls': 16, 'bears': 17, 'research': 18, 'gallery': 19, 'stated': 20, 'day': 21, 'considered': 22, 'earlier': 23, 'way': 24, 'things': 25, 'year': 26, 'listen': 27, 'estate': 28, 'friends': 29, 'update': 30, 'officials': 31, 'missed': 32, 'babies': 33, 'early': 34, 'reaction': 35, 'declares': 36, 'leadership': 37, 'long': 38, 'objects': 39, 'order': 40, 'summary': 41, 'story': 42, 'today': 43, 'nation': 44, 'rampant': 45, 'scenarios': 46, 'class': 47, 'conservative': 48, 'wet': 49, 'afp': 50, 'look': 51, 'stood': 52, 'confirmed': 53, 'picture': 54, 'warned': 55, 'negotiations': 56, 'spotted': 57, 'playing': 58, '8pm': 59, 'proof': 60, 'attention': 61, 'gut': 62, 'reports': 63, 'possible': 64, 'answer': 65, 'rational': 66, 'sent': 67, 'blocks': 68, 'send': 69, 'israel': 70, 'close': 71, 'tragic': 72, 'art': 73, 'delivered': 74, 'riding': 75, 'fly': 76, 'later': 77, 'selfie': 78, 'deleted': 79, 'fully': 80, 'culture': 81, 'turns': 82, 'ill': 83, 'learn': 84, 'situation': 85, 'ready': 86, 'leader': 87, 'apologize': 88, '144': 89, 'need': 90, 'train': 91, 'sports': 92, 'money': 93, 'yesterday': 94, 'st': 95, 'music': 96, 'donated': 97, 'mr': 98, 'hold': 99, 'fb': 100, 'maybe': 101, 'fit': 102, 'amid': 103, 'source': 104, 'leaving': 105, 'artwork': 106, 'rt': 107, 'hours': 108, 'list': 109, 'clearly': 110, 'trucks': 111, 'afraid': 112, 'slaves': 113, 'ppl': 114, 'artist': 115, 'tyceemkwoo': 116, 'lie': 117, 'investigation': 118, 'll': 119, 'board': 120, 'eyes': 121, 'agreed': 122, 'vehicles': 123, 'unconfirmed': 124, 'decided': 125, 'piece': 126, 'streaming': 127, 'insulted': 128, 'hitting': 129, 'lead': 130, 'finds': 131, 'difficult': 132, 'guess': 133, 'telegraph': 134, 'caricatures': 135, 'kids': 136, 'spread': 137, 'weekend': 138, 'excited': 139, 'regarding': 140, 'photos': 141, 'monitor': 142, 'welp': 143, 'german': 144, 'post': 145, 'far': 146, 'say': 147, 'omg': 148, 'wish': 149, 'families': 150, 'political': 151, 'forced': 152, 'media': 153, 'release': 154, 'takes': 155, 'bridge': 156, 'concerned': 157, 'fall': 158, 'sick': 159, 'path': 160, 'lawyers': 161, 'berlin': 162, 'needs': 163, 'coming': 164, 'accepted': 165, 'downtown': 166, 'deputy': 167, 'total': 168, 'family': 169, 'explanation': 170, 'steve': 171, 'twitter': 172, 'hey': 173, 'father': 174, 'having': 175, 'taking': 176, 'gop': 177, 'neverforget': 178, 'years': 179, 'appears': 180, 'stop': 181, 'known': 182, '5mins': 183, 'claimed': 184, 'trump': 185, 'buy': 186, 'apcs': 187, 'national': 188, 'brave': 189, 'pulled': 190, 'quite': 191, 'video': 192, 'el': 193, 'add': 194, 'week': 195, 'looks': 196, 'flood': 197, '7am': 198, 'conference': 199, 'jimgeraghty': 200, 'battle': 201, 'thinking': 202, 'killing': 203, 'hear': 204, 'pleased': 205, 'begin': 206, 'quickly': 207, 'tweeted': 208, 'armored': 209, 'canadians': 210, 'fake': 211, 'reasons': 212, 'large': 213, 'europe': 214, 'district': 215, 'trap': 216, 'newspaper': 217, 'case': 218, 'helped': 219, 'profits': 220, 'public': 221, 'meant': 222, 'https': 223, 'location': 224, 'swimming': 225, 'fell': 226, 'healthy': 227, 'idea': 228, 'tour': 229, 'allegedly': 230, 'explain': 231, 'uk': 232, 'performing': 233, 'park': 234, 'came': 235, 'gt': 236, 'judge': 237, 'arts': 238, 'people': 239, 'guy': 240, 'afternoon': 241, 'big': 242, 'book': 243, 'just': 244, 'gear': 245, 'lots': 246, 'mentally': 247, 'hunt': 248, 'receive': 249, 'does': 250, 'heard': 251, 'eat': 252, 'clothes': 253, 'cbc': 254, 'stupid': 255, 'rumored': 256, 'photographer': 257, 'sign': 258, 'suspect': 259, 'silence': 260, 'hello': 261, '24': 262, 'arrived': 263, 'russian': 264, 'bar': 265, 'cause': 266, 'thinks': 267, 'international': 268, 'like': 269, 'suspected': 270, 'typical': 271, 'hoping': 272, '99': 273, 'signs': 274, 'fate': 275, 'crowds': 276, 'politics': 277, 'lt': 278, 'ch': 279, 'calling': 280, 'president': 281, 'true': 282, 'pre': 283, 'instead': 284, 'funny': 285, 'painful': 286, 'went': 287, 'chance': 288, 'called': 289, 'resolution': 290, 'somebody': 291, 'wtf': 292, 'military': 293, 'sorry': 294, 'charges': 295, 'joke': 296, 'left': 297, 'organizations': 298, 'win': 299, 'pic': 300, 'lines': 301, 'strongly': 302, 'investigate': 303, 'website': 304, 'started': 305, 'interview': 306, 'department': 307, 'amp': 308, 'friday': 309, 'personally': 310, 'stolen': 311, 'justice': 312, 'wonder': 313, 'broke': 314, 'feels': 315, 'response': 316, 'flag': 317, 'try': 318, 'magazine': 319, 'white': 320, 'confused': 321, 'sounds': 322, 'bit': 323, 'minute': 324, 'happen': 325, 'jokes': 326, 'set': 327, 'yeah': 328, 'awaiting': 329, 'return': 330, 'block': 331, 'longer': 332, 'appearance': 333, 'issue': 334, 'times': 335, 'remain': 336, 'space': 337, 'thought': 338, 'williams': 339, '70': 340, 'page': 341, 'planning': 342, '2014': 343, 'new': 344, 'according': 345, 'colour': 346, 'finally': 347, 'street': 348, 'expect': 349, 'gone': 350, 'link': 351, 'work': 352, 'hasn': 353, 'control': 354, 'toronto': 355, 'fight': 356, 'scenes': 357, 'direct': 358, '12': 359, 'pls': 360, 'returning': 361, 'produced': 362, 'girl': 363, 'theory': 364, 'minister': 365, 'force': 366, 'indicate': 367, 'late': 368, 'fyi': 369, 'said': 370, 'folks': 371, 'old': 372, 'saying': 373, 'whereabouts': 374, 'event': 375, 'ukraine': 376, 'friend': 377, 'tells': 378, 'health': 379, 'satirical': 380, 'nigerian': 381, 'outside': 382, 'based': 383, 'collection': 384, 'balance': 385, 'reported': 386, 'handed': 387, 'investigating': 388, 'caught': 389, 'blocked': 390, 'gotta': 391, '3rd': 392, 'embassy': 393, 'rolled': 394, 'institution': 395, 'press': 396, 'lawsuit': 397, 'london': 398, 'told': 399, 'government': 400, 'cares': 401, 'pay': 402, 'psychiatric': 403, 'soviet': 404, 'harper': 405, 'evening': 406, 'missing': 407, 'flying': 408, 'mo': 409, 'great': 410, 'site': 411, '30': 412, 'harassment': 413, 'despite': 414, 'updated': 415, 'terrible': 416, 'holds': 417, 'checking': 418, 'wait': 419, 'pending': 420, 'write': 421, 'neutralised': 422, 'rumours': 423, 'mins': 424, 'joint': 425, 'attend': 426, 'charge': 427, 'doors': 428, 'city': 429, 'dead': 430, 'baby': 431, 'donald': 432, 'staged': 433, 'weird': 434, 'radical': 435, 'tomorrow': 436, 'stand': 437, 'challenge': 438, 'price': 439, 'threat': 440, 'better': 441, 'admits': 442, 'plot': 443, 'codes': 444, 'woman': 445, 'officially': 446, 'backyard': 447, 'amidst': 448, 'hit': 449, 'making': 450, 'emerging': 451, 'following': 452, 'room': 453, 'power': 454, 'monday': 455, 'question': 456, 'tea': 457, 'make': 458, 'hundreds': 459, 'fine': 460, 'fox': 461, 'rick': 462, 'doubt': 463, 'internet': 464, 'thats': 465, 'growing': 466, 'seeing': 467, 'spin': 468, 'highlight': 469, 'soon': 470, 'returned': 471, 'died': 472, 'talking': 473, 'works': 474, 'russia': 475, 'tell': 476, 'black': 477, 'support': 478, 'ground': 479, 'words': 480, 'read': 481, 'suspicion': 482, 'certainly': 483, 'fast': 484, 'party': 485, 'abc': 486, 'riot': 487, 'pictures': 488, 'likely': 489, 'yr': 490, 'comment': 491, 'breaking': 492, 'hard': 493, 'course': 494, 'extremism': 495, 'saw': 496, 'various': 497, 'puts': 498, 'ontario': 499, 'cap': 500, 'july': 501, 'threaten': 502, 'scared': 503, 'states': 504, 'happening': 505, 'starts': 506, 'gave': 507, 'asked': 508, 'anchor': 509, 'person': 510, 'urged': 511, 'shit': 512, 'tweet': 513, 'blamed': 514, 'christopher': 515, 'referring': 516, 'unfortunately': 517, 'continued': 518, 'word': 519, 'react': 520, 'director': 521, 'offended': 522, 'faces': 523, 'training': 524, 'vs': 525, 'reality': 526, 'live': 527, 'house': 528, 'comments': 529, 'knows': 530, 'forbes': 531, 'reminder': 532, 'cc': 533, 'mayor': 534, 'quick': 535, 'benefit': 536, 'named': 537, 'local': 538, 'radicals': 539, 'loaded': 540, 'pool': 541, 'tweets': 542, 'trying': 543, 'dare': 544, 'lot': 545, 'hearing': 546, 'contrary': 547, 'want': 548, 'current': 549, 'confirms': 550, 'don': 551, 'knowing': 552, 'ranks': 553, 'reportedly': 554, 'shooting': 555, 'tv': 556, 'videos': 557, 'good': 558, 'putin': 559, 'country': 560, 'seriously': 561, 'anymore': 562, 'opened': 563, 'police': 564, 'elites': 565, 'ago': 566, 'nice': 567, 'continue': 568, 'killed': 569, 'literally': 570, 'start': 571, 'tonight': 572, 'preparing': 573, 'freaking': 574, 'worst': 575, 'plan': 576, 'mean': 577, 'gta': 578, 'brian': 579, 'got': 580, 'remind': 581, 'original': 582, 'waiting': 583, 'thing': 584, 'ask': 585, 'disbelief': 586, 'photo': 587, 'appear': 588, 'entire': 589, 'fr': 590, 'parade': 591, 'search': 592, 'l0gg0l': 593, 'enemy': 594, 've': 595, 'tcot': 596, 'journalists': 597, 'questions': 598, 'speaks': 599, 'busy': 600, 'prince': 601, 'man': 602, 'come': 603, 'weapons': 604, 'deciding': 605, 'number': 606, 'aged': 607, 'dealt': 608, 'chosen': 609, 'alert': 610, 'escaped': 611, 'drug': 612, 'image': 613, 'rain': 614, 'born': 615, 'really': 616, 'affiliated': 617, 'pieces': 618, '1st': 619, 'hall': 620, 'play': 621, 'net': 622, 'republicans': 623, 'illness': 624, 'announce': 625, 'american': 626, 'world': 627, 'paper': 628, 'sad': 629, 'twist': 630, 'tabloid': 631, 'home': 632, 'taken': 633, 'surprise': 634, 'imagine': 635, 'declaration': 636, 'groups': 637, 'telling': 638, 'sell': 639, 'stage': 640, '32': 641, 'terms': 642, 'time': 643, 'citynews': 644, 'son': 645, 'organisations': 646, 'poll': 647, 'cancels': 648, 'signed': 649, 'usual': 650, 'obviously': 651, 'nearly': 652, 'smoke': 653, 'nov': 654, 'shows': 655, 'rep': 656, 'crazy': 657, 'im': 658, 'huge': 659, 'decision': 660, 'think': 661, 'office': 662, 'red': 663, 'unit': 664, 'senior': 665, 'wife': 666, 'involving': 667, 'nato': 668, 'middle': 669, '88': 670, 'developing': 671, 'tanks': 672, 'version': 673, 'truth': 674, 'ok': 675, 'needed': 676, 'declare': 677, 'oh': 678, 'riots': 679, 'cbcto': 680, 'immediately': 681, 'identified': 682, 'follow': 683, 'washington': 684, 'feed': 685, 'given': 686, 'sound': 687, 'surrounding': 688, 'series': 689, 'dropped': 690, 'actually': 691, 'centre': 692, 'crash': 693, 'star': 694, 'hashtags': 695, 'peace': 696, 'getting': 697, 'cards': 698, 'lying': 699, 'jewish': 700, 'oil': 701, 'germany': 702, 'exclusive': 703, 'panic': 704, 'considering': 705, 'torontostar': 706, 'prefer': 707, 'watch': 708, 'opera': 709, 'wasn': 710, 'storm': 711, 'days': 712, 'happens': 713, 'rule': 714, 'morning': 715, 'pics': 716, 'relatives': 717, 'blood': 718, 'doing': 719, 'makes': 720, 'cold': 721, 'cancelled': 722, 'stay': 723, 'hearts': 724, 'smh': 725, '19': 726, 'activist': 727, 'standing': 728, 'child': 729, 'head': 730, 'fallen': 731, 'completely': 732, 'understand': 733, 'google': 734, '92': 735, 'looking': 736, 'cartoon': 737, 'sure': 738, 'pjnet': 739, 'best': 740, 'die': 741, 'jerusalem': 742, 'sorrow': 743, 'false': 744, 'social': 745, 'wow': 746, 'successful': 747, 'transparency': 748, 'right': 749, 'suffering': 750, 'prevents': 751, 'http': 752, 'owners': 753, 'suggesting': 754, 'haven': 755, 'let': 756, 'forces': 757, 'judaism': 758, 'recovery': 759, 'feeling': 760, 'info': 761, 'yorker': 762, 'claim': 763, 'yanukovych': 764, 'weigh': 765, 'america': 766, 'message': 767, 'calls': 768, 'night': 769, 'asking': 770, 'crossed': 771, 'denying': 772, 'rocks': 773, 'future': 774, 'check': 775, 'possibly': 776, 'met': 777, 'plans': 778, 'experienced': 779, 'talk': 780, 'won': 781, 'seen': 782, 'crew': 783, 'french': 784, 'victim': 785, 'shot': 786, 'little': 787, 'duty': 788, 'hell': 789, 'tried': 790, '10': 791, 'sold': 792, 'file': 793, 'forcing': 794, 'speculation': 795, 'ring': 796, 'merkel': 797, 'security': 798, 'scare': 799, 'moving': 800, 'ups': 801, 'daughter': 802, 'responsibility': 803, 'fool': 804, 'fan': 805, 'treat': 806, 'worrying': 807, 'trending': 808, 'scenario': 809, 'apartment': 810, 'living': 811, 'region': 812, 'giving': 813, 'real': 814, 'strange': 815, 'line': 816, 'inevitable': 817, 'official': 818, 'internal': 819, 'handling': 820, 'court': 821, 'article': 822, 'wrong': 823, 'gives': 824, 'inquiry': 825, 'war': 826, 'daily': 827, 'yes': 828, 'ukrainian': 829, 'facebook': 830, 'affected': 831, 'game': 832, 'complex': 833, 'eve': 834, 'watching': 835, 'forms': 836, 'built': 837, 'construction': 838, 'closely': 839, 'patrick': 840, 'run': 841, 'filed': 842, 'private': 843, 'prove': 844, 'gonna': 845, 'statements': 846, 'released': 847, 'nytimes': 848, 'sight': 849, 'guys': 850, 'rip': 851, 'challenged': 852, 'closer': 853, 'burning': 854, 'staff': 855, 'took': 856, 'death': 857, 'involved': 858, 'popular': 859, 'club': 860, 'inside': 861, 'november': 862, 'accept': 863, 'short': 864, 'seized': 865, 'register': 866, 'nyt': 867, 'swiftly': 868, 'know': 869, 'confirm': 870, 'away': 871, 'state': 872, 'place': 873, 'enter': 874, 'didn': 875, 'going': 876, 'secret': 877, 'television': 878, 'bad': 879, 'michael': 880, 'nature': 881, 'removed': 882, 'leaders': 883, 'details': 884, 'tweeting': 885, 'disappeared': 886, 'initially': 887, 'history': 888, 'ap': 889, 'cp24': 890, 'gift': 891, 'express': 892, 'rotten': 893, 'form': 894, 'images': 895, 'tuesday': 896, 'clowns': 897, 'banned': 898, 'south': 899, 'doesn': 900, 'probably': 901, 'frontpage': 902, 'oct': 903, 'facing': 904, 'expert': 905, 'controversial': 906, 'goes': 907, 'free': 908, 'square': 909, 'denied': 910, 'boy': 911, 'provided': 912, 'mad': 913, 'fun': 914, 'claims': 915, 'latest': 916, 'months': 917, 'shortly': 918, 'mind': 919, 'hope': 920, 'wants': 921, 'general': 922, 'mt': 923, 'occupation': 924, 'cdnpoli': 925, 'hands': 926, 'building': 927, 'leave': 928, 'bbcdaniels': 929, 'kept': 930, 'leaves': 931, 'launch': 932, 'supreme': 933, 'warns': 934, 'amazing': 935, 'did': 936, 'says': 937, 'raised': 938, 'remember': 939, 'ft': 940, 'pull': 941, 'major': 942, 'songs': 943, 'management': 944, 'pretty': 945, 'showing': 946, 'isn': 947, 'clear': 948, 'flee': 949}\n"
     ]
    },
    {
     "name": "stdout",
     "output_type": "stream",
     "text": [
      " traning shape: (5802, 950)\n"
     ]
    }
   ],
   "source": [
    "#x_traning,y_traning = preprocessor.load_training_data(traning_set_path,limit=None)\n",
    "x_traning,y_traning = preprocessor.load_training_data(traning_set_path,testing_set_path,limit=None)\n",
    "\n",
    "print (f' traning shape: {x_traning.shape}')\n"
   ]
  },
  {
   "cell_type": "code",
   "execution_count": 4,
   "metadata": {},
   "outputs": [
    {
     "name": "stdout",
     "output_type": "stream",
     "text": [
      "load data src:C:\\Users\\Woody\\Documents\\git repository\\NccuBigDataAnalyticsProject\\FakeNews_Final\\testing, limit:None, has_label:True\n",
      " testing shape: (623, 950)\n"
     ]
    }
   ],
   "source": [
    "x_testing,y_testing,x_id = preprocessor.load_testing_data(testing_set_path,limit=None,has_label=True)\n",
    "print (f' testing shape: {x_testing.shape}')"
   ]
  },
  {
   "cell_type": "code",
   "execution_count": 5,
   "metadata": {},
   "outputs": [
    {
     "name": "stdout",
     "output_type": "stream",
     "text": [
      "(3957, 950)\n",
      "(3957,)\n"
     ]
    }
   ],
   "source": [
    "#balance the traning set \n",
    "x_traning_true = []\n",
    "y_traning_true =  []\n",
    "x_traning_false =  []\n",
    "y_traning_false = []\n",
    "for x,y in zip(x_traning,y_traning):\n",
    "    if(y==1):\n",
    "        x_traning_true.append(x.toarray())\n",
    "        y_traning_true.append(y)\n",
    "    else:\n",
    "        x_traning_false.append(x.toarray())\n",
    "        y_traning_false.append(y)\n",
    "min_len = min(int(len(x_traning_true)),len(x_traning_false)/30)\n",
    "x_traning_balanced = np.concatenate(x_traning_true[:int(min_len)] +  x_traning_false[:int(min_len*30)])\n",
    "y_traning_balanced = np.array(y_traning_true[:int(min_len)] +  y_traning_false[:int(min_len*30)])\n",
    "#transform to sparse matrix to incrase speed, somehow numpy array is slower\n",
    "x_traning_balanced = sparse.csr_matrix(x_traning_balanced)\n",
    "print(x_traning_balanced.shape)\n",
    "print(y_traning_balanced.shape)"
   ]
  },
  {
   "cell_type": "code",
   "execution_count": 6,
   "metadata": {},
   "outputs": [],
   "source": [
    "classifier.fit(x_traning_balanced,y_traning_balanced)\n",
    "y_test_predictions = classifier.predict(x_testing)\n",
    "y_test_predict_probabilities = classifier.predict_proba(x_testing)"
   ]
  },
  {
   "cell_type": "code",
   "execution_count": 7,
   "metadata": {},
   "outputs": [
    {
     "name": "stdout",
     "output_type": "stream",
     "text": [
      "0.45585874799357945\n",
      "0.6902086677367576\n",
      "0.5537720706260032\n"
     ]
    }
   ],
   "source": [
    "print(np.sum(y_test_predictions)/len(y_test_predictions))\n",
    "print(np.sum(y_testing)/len(y_testing))\n",
    "correct=0\n",
    "sum=0\n",
    "for a,b in zip(y_test_predictions,y_testing):\n",
    "    if (a==b):\n",
    "        correct+=1\n",
    "    sum+=1\n",
    "print(correct/sum)"
   ]
  },
  {
   "cell_type": "code",
   "execution_count": 8,
   "metadata": {},
   "outputs": [
    {
     "name": "stdout",
     "output_type": "stream",
     "text": [
      "Accuracy: 0.5537720706260032\n",
      "Classification report:\n",
      "              precision    recall  f1-score   support\n",
      "\n",
      "           0       0.37      0.66      0.48       193\n",
      "           1       0.77      0.51      0.61       430\n",
      "\n",
      "   micro avg       0.55      0.55      0.55       623\n",
      "   macro avg       0.57      0.58      0.54       623\n",
      "weighted avg       0.65      0.55      0.57       623\n",
      "\n",
      "(623,)\n",
      "(623,)\n"
     ]
    },
    {
     "data": {
      "image/png": "[encoded data removed]",
      "text/plain": [
       "<Figure size 432x288 with 1 Axes>"
      ]
     },
     "metadata": {
      "needs_background": "light"
     },
     "output_type": "display_data"
    }
   ],
   "source": [
    "print ('Accuracy:',(y_test_predictions == y_testing).sum().astype(float)/(y_testing.shape[0]))\n",
    "print ('Classification report:')\n",
    "print (classification_report(y_testing, y_test_predictions))\n",
    "print(y_testing.shape)\n",
    "print(y_test_predictions.shape)\n",
    "#Not sure if this is correct to map score \n",
    "#Random score\n",
    "#y_score = np.random.rand(len(y_testing))\n",
    "y_score = y_test_predict_probabilities[:,1]\n",
    "false_positive_rate, true_positive_rate, thresholds = roc_curve(y_testing, y_score)\n",
    "roc_auc = auc(false_positive_rate, true_positive_rate)\n",
    "# Plotting\n",
    "plt.title('ROC')\n",
    "plt.plot(false_positive_rate, true_positive_rate, c='navy', label=('AUC-'+'= %0.2f'%roc_auc))\n",
    "plt.legend(loc='lower right', prop={'size':8})\n",
    "plt.plot([0,1],[0,1], color='lightgrey', linestyle='--')\n",
    "plt.xlim([-0.05,1.0])\n",
    "plt.ylim([0.0,1.05])\n",
    "plt.ylabel('True Positive Rate')\n",
    "plt.xlabel('False Positive Rate')\n",
    "plt.show()"
   ]
  },
  {
   "cell_type": "code",
   "execution_count": 9,
   "metadata": {},
   "outputs": [
    {
     "name": "stdout",
     "output_type": "stream",
     "text": [
      "('521310417696858112', '1')\n"
     ]
    },
    {
     "ename": "PermissionError",
     "evalue": "[Errno 13] Permission denied: 'result.csv'",
     "output_type": "error",
     "traceback": [
      "\u001b[1;31m---------------------------------------------------------------------------\u001b[0m",
      "\u001b[1;31mPermissionError\u001b[0m                           Traceback (most recent call last)",
      "\u001b[1;32m<ipython-input-9-21a434e74565>\u001b[0m in \u001b[0;36m<module>\u001b[1;34m\u001b[0m\n\u001b[0;32m      2\u001b[0m \u001b[0moutput_list\u001b[0m \u001b[1;33m=\u001b[0m \u001b[0mlist\u001b[0m\u001b[1;33m(\u001b[0m\u001b[0mzip\u001b[0m\u001b[1;33m(\u001b[0m\u001b[0mx_id\u001b[0m\u001b[1;33m,\u001b[0m\u001b[0mmap\u001b[0m\u001b[1;33m(\u001b[0m\u001b[0mstr\u001b[0m\u001b[1;33m,\u001b[0m\u001b[0my_test_predictions\u001b[0m\u001b[1;33m)\u001b[0m\u001b[1;33m)\u001b[0m\u001b[1;33m)\u001b[0m\u001b[1;33m\u001b[0m\u001b[1;33m\u001b[0m\u001b[0m\n\u001b[0;32m      3\u001b[0m \u001b[0mprint\u001b[0m\u001b[1;33m(\u001b[0m\u001b[0moutput_list\u001b[0m\u001b[1;33m[\u001b[0m\u001b[1;36m0\u001b[0m\u001b[1;33m]\u001b[0m\u001b[1;33m)\u001b[0m\u001b[1;33m\u001b[0m\u001b[1;33m\u001b[0m\u001b[0m\n\u001b[1;32m----> 4\u001b[1;33m \u001b[1;32mwith\u001b[0m \u001b[0mopen\u001b[0m\u001b[1;33m(\u001b[0m\u001b[1;34m'result.csv'\u001b[0m\u001b[1;33m,\u001b[0m \u001b[1;34m'w'\u001b[0m\u001b[1;33m,\u001b[0m\u001b[0mnewline\u001b[0m\u001b[1;33m=\u001b[0m\u001b[1;34m''\u001b[0m\u001b[1;33m)\u001b[0m \u001b[1;32mas\u001b[0m \u001b[0mmyfile\u001b[0m\u001b[1;33m:\u001b[0m\u001b[1;33m\u001b[0m\u001b[1;33m\u001b[0m\u001b[0m\n\u001b[0m\u001b[0;32m      5\u001b[0m     \u001b[0mwr\u001b[0m \u001b[1;33m=\u001b[0m \u001b[0mcsv\u001b[0m\u001b[1;33m.\u001b[0m\u001b[0mwriter\u001b[0m\u001b[1;33m(\u001b[0m\u001b[0mmyfile\u001b[0m\u001b[1;33m,\u001b[0m \u001b[0mquoting\u001b[0m\u001b[1;33m=\u001b[0m\u001b[0mcsv\u001b[0m\u001b[1;33m.\u001b[0m\u001b[0mQUOTE_ALL\u001b[0m\u001b[1;33m)\u001b[0m\u001b[1;33m\u001b[0m\u001b[1;33m\u001b[0m\u001b[0m\n\u001b[0;32m      6\u001b[0m     \u001b[1;32mfor\u001b[0m \u001b[0ma\u001b[0m\u001b[1;33m,\u001b[0m\u001b[0mb\u001b[0m \u001b[1;32min\u001b[0m \u001b[0moutput_list\u001b[0m\u001b[1;33m:\u001b[0m\u001b[1;33m\u001b[0m\u001b[1;33m\u001b[0m\u001b[0m\n",
      "\u001b[1;31mPermissionError\u001b[0m: [Errno 13] Permission denied: 'result.csv'"
     ]
    }
   ],
   "source": [
    "import csv\n",
    "output_list = list(zip(x_id,map(str,y_test_predictions)))\n",
    "print(output_list[0])\n",
    "with open('result.csv', 'w',newline='') as myfile:\n",
    "    wr = csv.writer(myfile, quoting=csv.QUOTE_ALL)\n",
    "    for a,b in output_list:\n",
    "        wr.writerow([a,b])"
   ]
  },
  {
   "cell_type": "code",
   "execution_count": 15,
   "metadata": {},
   "outputs": [
    {
     "name": "stdout",
     "output_type": "stream",
     "text": [
      "('521310417696858112', '1')\n"
     ]
    }
   ],
   "source": [
    "output_list = list(zip(x_id,map(str,y_test_predictions)))\n",
    "print(output_list[0])\n",
    "with open('result.txt', 'w') as myfile:\n",
    "    for a,b in output_list:\n",
    "        myfile.writelines(f\"{a}:{b}\\n\")"
   ]
  },
  {
   "cell_type": "code",
   "execution_count": null,
   "metadata": {},
   "outputs": [],
   "source": []
  }
 ],
 "metadata": {
  "kernelspec": {
   "display_name": "Python 3",
   "language": "python",
   "name": "python3"
  },
  "language_info": {
   "codemirror_mode": {
    "name": "ipython",
    "version": 3
   },
   "file_extension": ".py",
   "mimetype": "text/x-python",
   "name": "python",
   "nbconvert_exporter": "python",
   "pygments_lexer": "ipython3",
   "version": "3.7.3"
  }
 },
 "nbformat": 4,
 "nbformat_minor": 4
}

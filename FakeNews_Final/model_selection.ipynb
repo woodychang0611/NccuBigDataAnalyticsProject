{
 "cells": [
  {
   "cell_type": "markdown",
   "metadata": {},
   "source": [
    "# 測試各種model在預設條件的成績"
   ]
  },
  {
   "cell_type": "code",
   "execution_count": 1,
   "metadata": {},
   "outputs": [],
   "source": [
    "import os\n",
    "import numpy as np\n",
    "from gen1_preprocessor import Preprocessor\n",
    "import pandas as pd\n",
    "import numpy as np\n",
    "from sklearn import svm\n",
    "from sklearn.feature_extraction.text import TfidfVectorizer, CountVectorizer\n",
    "from sklearn.naive_bayes import MultinomialNB\n",
    "from sklearn.ensemble import AdaBoostClassifier, RandomForestClassifier\n",
    "from sklearn.model_selection import train_test_split, cross_val_score\n",
    "from datetime import datetime"
   ]
  },
  {
   "cell_type": "code",
   "execution_count": 2,
   "metadata": {},
   "outputs": [],
   "source": [
    "classifiers = {\n",
    "  #'Naive Bayes':MultinomialNB(),\n",
    "  #'Ada Boost 50 (default)':AdaBoostClassifier(n_estimators=50),     \n",
    "  #'Ada Boost 100':AdaBoostClassifier(n_estimators=100),   \n",
    "  #'Ada Boost 150':AdaBoostClassifier(n_estimators=150),\n",
    "  #'Ada Boost 200':AdaBoostClassifier(n_estimators=200),\n",
    "  #'Ada Boost 250':AdaBoostClassifier(n_estimators=250),\n",
    "  #'Random Forest':RandomForestClassifier(n_estimators=100),\n",
    "  'SVM':svm.SVC(gamma='scale'),\n",
    "  #'SVM c=0.5':svm.SVC(gamma='scale',C=0.5),\n",
    "  'SVM c-2':svm.SVC(gamma='scale',C=2),\n",
    "  'SVM c-10':svm.SVC(gamma='scale',C=10),\n",
    "  'SVM c-100':svm.SVC(gamma='scale',C=100),\n",
    "  #'SVM poly':svm.SVC(gamma='scale',kernel ='poly'),\n",
    "  #'SVM sigmoid':svm.SVC(gamma='scale',kernel ='sigmoid'),\n",
    "    \n",
    "}\n",
    "\n",
    "preprocessors ={\n",
    "#  \"No PCA\": Preprocessor(),      \n",
    "#  \"PCA 2000\": Preprocessor(pca_n_components=2000), \n",
    "  \"PCA 1500\": Preprocessor(pca_n_components=1500),\n",
    "  \"PCA 1300\": Preprocessor(pca_n_components=1300),\n",
    "#  \"PCA 1000\": Preprocessor(pca_n_components=1000),\n",
    "#  \"PCA 500\": Preprocessor(pca_n_components=500),    \n",
    "#  \"PCA 300\": Preprocessor(pca_n_components=300),\n",
    "#  \"PCA 100\": Preprocessor(pca_n_components=100),\n",
    "  \n",
    "} \n"
   ]
  },
  {
   "cell_type": "code",
   "execution_count": 3,
   "metadata": {
    "scrolled": true
   },
   "outputs": [
    {
     "name": "stdout",
     "output_type": "stream",
     "text": [
      "Traning Set:C:\\Users\\Woody\\Documents\\git repository\\NccuBigDataAnalyticsProject\\FakeNews_Final\\training\n"
     ]
    }
   ],
   "source": [
    "\n",
    "current_path = os.path.abspath('')\n",
    "traning_set_path = os.path.join(current_path,\"training\")\n",
    "print (f'Traning Set:{traning_set_path}')\n"
   ]
  },
  {
   "cell_type": "code",
   "execution_count": null,
   "metadata": {
    "scrolled": true
   },
   "outputs": [
    {
     "name": "stdout",
     "output_type": "stream",
     "text": [
      "Preprocessor: PCA 1500\n",
      "load data src:C:\\Users\\Woody\\Documents\\git repository\\NccuBigDataAnalyticsProject\\FakeNews_Final\\training, limit:None\n",
      "Time: 2019-12-22 21:16:50.529150\n",
      "================================================================================\n",
      "Classifier: SVM\n",
      "+++++\n",
      "Mean Score: 0.8628048056075321,Max Score: 0.8724137931034482,Min Score: 0.853448275862069,Std: 0.007033161243626076\n",
      "================================================================================\n",
      "Time: 2019-12-22 21:33:20.914865\n",
      "================================================================================\n",
      "Classifier: SVM c-2\n",
      "++"
     ]
    }
   ],
   "source": [
    "#Cross Validation without PCA\n",
    "for preprocessor_name in preprocessors:\n",
    "    print(f'Preprocessor: {preprocessor_name}')\n",
    "    x_traning,y_traning = preprocessors[preprocessor_name].load_training_data(traning_set_path,limit=None)\n",
    "    for classifier_name in classifiers:\n",
    "      print(\"Time:\", datetime.now())\n",
    "      loop_count =5\n",
    "      print('='*80)\n",
    "      print(f'Classifier: {classifier_name}')\n",
    "      model = classifiers[classifier_name]\n",
    "      scores = []\n",
    "      try:\n",
    "          for _ in range(0,loop_count):\n",
    "              scores+= list(cross_val_score(model, x_traning, y_traning, scoring='accuracy',cv=5,error_score='raise'))\n",
    "              print(\"+\", end = '')\n",
    "          print(\"\")\n",
    "      except:\n",
    "          scores=[0]\n",
    "      min_score = np.min(scores)\n",
    "      max_score = np.max(scores)\n",
    "      mean_score = np.mean(scores)\n",
    "      std_score = np.std(scores)\n",
    "      print(f'Mean Score: {mean_score},Max Score: {max_score},Min Score: {min_score},Std: {std_score}')\n",
    "      print('='*80)"
   ]
  },
  {
   "cell_type": "code",
   "execution_count": null,
   "metadata": {},
   "outputs": [],
   "source": []
  },
  {
   "cell_type": "code",
   "execution_count": null,
   "metadata": {},
   "outputs": [],
   "source": []
  }
 ],
 "metadata": {
  "kernelspec": {
   "display_name": "Python 3",
   "language": "python",
   "name": "python3"
  },
  "language_info": {
   "codemirror_mode": {
    "name": "ipython",
    "version": 3
   },
   "file_extension": ".py",
   "mimetype": "text/x-python",
   "name": "python",
   "nbconvert_exporter": "python",
   "pygments_lexer": "ipython3",
   "version": "3.7.3"
  }
 },
 "nbformat": 4,
 "nbformat_minor": 4
}

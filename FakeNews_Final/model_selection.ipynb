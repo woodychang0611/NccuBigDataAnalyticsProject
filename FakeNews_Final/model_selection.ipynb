{
 "cells": [
  {
   "cell_type": "markdown",
   "metadata": {},
   "source": [
    "# 測試各種model roc_auc在預設條件的成績"
   ]
  },
  {
   "cell_type": "code",
   "execution_count": 2,
   "metadata": {},
   "outputs": [],
   "source": [
    "import os\n",
    "import numpy as np\n",
    "from gen1_preprocessor import Preprocessor\n",
    "import pandas as pd\n",
    "import numpy as np\n",
    "from sklearn import svm\n",
    "from sklearn.feature_extraction.text import TfidfVectorizer, CountVectorizer\n",
    "from sklearn.naive_bayes import MultinomialNB\n",
    "from sklearn.ensemble import AdaBoostClassifier, RandomForestClassifier\n",
    "from sklearn.model_selection import train_test_split, cross_val_score\n",
    "from datetime import datetime"
   ]
  },
  {
   "cell_type": "code",
   "execution_count": 12,
   "metadata": {},
   "outputs": [],
   "source": [
    "classifiers = {\n",
    "  'Naive Bayes':MultinomialNB(),\n",
    "  'Ada Boost 50 (default)':AdaBoostClassifier(n_estimators=50),     \n",
    "  #'Ada Boost 100':AdaBoostClassifier(n_estimators=100),   \n",
    "  #'Ada Boost 150':AdaBoostClassifier(n_estimators=150),\n",
    "  #'Ada Boost 200':AdaBoostClassifier(n_estimators=200),\n",
    "  #'Ada Boost 250':AdaBoostClassifier(n_estimators=250),\n",
    "  'Random Forest':RandomForestClassifier(n_estimators=100),\n",
    "  'SVM':svm.SVC(gamma='scale')\n",
    "}\n",
    "\n",
    "preprocessors ={\n",
    "  \"No PCA\": Preprocessor(),\n",
    "  \"PCA 100\": Preprocessor(pca_n_components=100),\n",
    "  \"PCA 1000\": Preprocessor(pca_n_components=1000),    \n",
    "} \n",
    "\n"
   ]
  },
  {
   "cell_type": "code",
   "execution_count": 9,
   "metadata": {},
   "outputs": [
    {
     "name": "stdout",
     "output_type": "stream",
     "text": [
      "Traning Set:/workspace/training\n"
     ]
    }
   ],
   "source": [
    "\n",
    "current_path = os.path.abspath('')\n",
    "traning_set_path = os.path.join(current_path,\"training\")\n",
    "print (f'Traning Set:{traning_set_path}')\n"
   ]
  },
  {
   "cell_type": "code",
   "execution_count": null,
   "metadata": {},
   "outputs": [
    {
     "name": "stdout",
     "output_type": "stream",
     "text": [
      "Preprocessor No PCA\n",
      "load data src:/workspace/training, limit:100\n",
      "Time: 2019-12-19 12:47:34.896762\n",
      "================================================================================\n",
      "Classifier: Naive Bayes\n",
      "Mean Score: 0.7541601255886969,Max Score: 0.8131868131868132,Min Score: 0.6938775510204082,Std: 0.04385051247459717\n",
      "================================================================================\n",
      "Time: 2019-12-19 12:47:35.141951\n",
      "================================================================================\n",
      "Classifier: Ada Boost 50 (default)\n",
      "Mean Score: 0.5837441130298273,Max Score: 0.9780219780219781,Min Score: 0.3717948717948718,Std: 0.1530695711473232\n",
      "================================================================================\n",
      "Time: 2019-12-19 12:47:43.103000\n",
      "================================================================================\n",
      "Classifier: Random Forest\n"
     ]
    }
   ],
   "source": [
    "#Cross Validation without PCA\n",
    "for preprocessor_name in preprocessors:\n",
    "    print(f'Preprocessor: {preprocessor_name}')\n",
    "    x_traning,y_traning = preprocessors[preprocessor_name].load_training_data(traning_set_path,limit=100)\n",
    "    for classifier_name in classifiers:\n",
    "      print(\"Time:\", datetime.now())\n",
    "      loop_count =20\n",
    "      print('='*80)\n",
    "      print(f'Classifier: {classifier_name}')\n",
    "      model = classifiers[classifier_name]\n",
    "      scores = []\n",
    "      for _ in range(0,loop_count):\n",
    "          scores+= list(cross_val_score(model, x_traning, y_traning, scoring='roc_auc',cv=5))\n",
    "      min_score = np.min(scores)\n",
    "      max_score = np.max(scores)\n",
    "      mean_score = np.mean(scores)\n",
    "      std_score = np.std(scores)\n",
    "      print(f'Mean Score: {mean_score},Max Score: {max_score},Min Score: {min_score},Std: {std_score}')\n",
    "      print('='*80)"
   ]
  },
  {
   "cell_type": "code",
   "execution_count": null,
   "metadata": {},
   "outputs": [],
   "source": []
  },
  {
   "cell_type": "code",
   "execution_count": null,
   "metadata": {},
   "outputs": [],
   "source": []
  }
 ],
 "metadata": {
  "kernelspec": {
   "display_name": "Python 3",
   "language": "python",
   "name": "python3"
  },
  "language_info": {
   "codemirror_mode": {
    "name": "ipython",
    "version": 3
   },
   "file_extension": ".py",
   "mimetype": "text/x-python",
   "name": "python",
   "nbconvert_exporter": "python",
   "pygments_lexer": "ipython3",
   "version": "3.6.8"
  }
 },
 "nbformat": 4,
 "nbformat_minor": 4
}

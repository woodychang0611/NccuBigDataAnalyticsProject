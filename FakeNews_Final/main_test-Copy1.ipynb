{
 "cells": [
  {
   "cell_type": "code",
   "execution_count": 1,
   "metadata": {},
   "outputs": [],
   "source": [
    "import os\n",
    "import numpy as np\n",
    "from gen1_preprocessor import Preprocessor\n",
    "from gen1_classifier import Classifier\n",
    "from sklearn.metrics import roc_curve, auc\n",
    "from sklearn.metrics import classification_report\n",
    "from sklearn.model_selection import cross_validate\n",
    "import matplotlib.pyplot as plt\n",
    "import glob"
   ]
  },
  {
   "cell_type": "code",
   "execution_count": 2,
   "metadata": {},
   "outputs": [
    {
     "name": "stdout",
     "output_type": "stream",
     "text": [
      "Traning Set:/workspace/training\n",
      "Testing Set:/workspace/training\n"
     ]
    }
   ],
   "source": [
    "preprocessor = Preprocessor(use_pca=False)\n",
    "classifier = Classifier()\n",
    "current_path = os.path.abspath('')\n",
    "traning_set_path = os.path.join(current_path,\"training\")\n",
    "testing_set_path = os.path.join(current_path,\"training\")\n",
    "\n",
    "print (f'Traning Set:{traning_set_path}')\n",
    "print (f'Testing Set:{testing_set_path}')"
   ]
  },
  {
   "cell_type": "code",
   "execution_count": 3,
   "metadata": {},
   "outputs": [
    {
     "name": "stdout",
     "output_type": "stream",
     "text": [
      "load data src:/workspace/training, limit:None\n"
     ]
    },
    {
     "data": {
      "text/plain": [
       "(5802, 12420)"
      ]
     },
     "execution_count": 3,
     "metadata": {},
     "output_type": "execute_result"
    }
   ],
   "source": [
    "x_traning,y_traning = preprocessor.load_training_data(traning_set_path,limit=None)\n",
    "x_traning.shape"
   ]
  },
  {
   "cell_type": "code",
   "execution_count": 4,
   "metadata": {},
   "outputs": [],
   "source": [
    "#test_data,y_test = preprocessor.load_testing_data(testing_set_path,limit=1000,hasLabel=True)\n",
    "test_count = 700\n",
    "test_data,y_test = x_traning[:test_count],y_traning[:test_count]\n",
    "x,y =x_traning[test_count:,:],y_traning[test_count:]\n",
    "\n",
    "classifier.fit(x,y)\n",
    "y_test_predictions = classifier.predict(test_data)\n",
    "y_test_predict_probabilities = classifier.predict_proba(test_data)"
   ]
  },
  {
   "cell_type": "code",
   "execution_count": 5,
   "metadata": {},
   "outputs": [
    {
     "name": "stdout",
     "output_type": "stream",
     "text": [
      "Accuracy: 0.8485714285714285\n",
      "Classification report:\n",
      "              precision    recall  f1-score   support\n",
      "\n",
      "           0       0.84      0.94      0.89       452\n",
      "           1       0.87      0.67      0.76       248\n",
      "\n",
      "    accuracy                           0.85       700\n",
      "   macro avg       0.86      0.81      0.82       700\n",
      "weighted avg       0.85      0.85      0.84       700\n",
      "\n",
      "(700,)\n",
      "(700,)\n"
     ]
    },
    {
     "data": {
      "image/png": "[encoded data removed]",
      "text/plain": [
       "<Figure size 432x288 with 1 Axes>"
      ]
     },
     "metadata": {
      "needs_background": "light"
     },
     "output_type": "display_data"
    }
   ],
   "source": [
    "print ('Accuracy:',(y_test_predictions == y_test).sum().astype(float)/(y_test.shape[0]))\n",
    "print ('Classification report:')\n",
    "print (classification_report(y_test, y_test_predictions))\n",
    "print(y_test.shape)\n",
    "print(y_test_predictions.shape)\n",
    "#Not sure if this is correct to map score \n",
    "y_score = y_test_predict_probabilities[:,1]\n",
    "false_positive_rate, true_positive_rate, thresholds = roc_curve(y_test, y_score)\n",
    "roc_auc = auc(false_positive_rate, true_positive_rate)\n",
    "# Plotting\n",
    "plt.title('ROC')\n",
    "plt.plot(false_positive_rate, true_positive_rate, c='navy', label=('AUC-'+'= %0.2f'%roc_auc))\n",
    "plt.legend(loc='lower right', prop={'size':8})\n",
    "plt.plot([0,1],[0,1], color='lightgrey', linestyle='--')\n",
    "plt.xlim([-0.05,1.0])\n",
    "plt.ylim([0.0,1.05])\n",
    "plt.ylabel('True Positive Rate')\n",
    "plt.xlabel('False Positive Rate')\n",
    "plt.show()"
   ]
  },
  {
   "cell_type": "code",
   "execution_count": 8,
   "metadata": {},
   "outputs": [
    {
     "data": {
      "text/plain": [
       "{'fit_time': array([2.76369119, 2.7999177 , 2.85075998, 2.77756071, 2.79866385]),\n",
       " 'score_time': array([0.03608799, 0.03619838, 0.03962398, 0.03550482, 0.03588748]),\n",
       " 'test_score': array([0.9082879 , 0.90223555, 0.91472527, 0.88717949, 0.87954292])}"
      ]
     },
     "execution_count": 8,
     "metadata": {},
     "output_type": "execute_result"
    }
   ],
   "source": [
    "x,y=x_traning[:1000],y_traning[:1000]\n",
    "n_options = (10,30,100)\n",
    "for n in n_options:\n",
    "    classifier = Classifier(n_estimators=n)\n",
    "    score = cross_validate(classifier.model,x,y,cv=5,scoring=('roc_auc'))\n",
    "    print(n)\n",
    "    print(score)"
   ]
  },
  {
   "cell_type": "code",
   "execution_count": 9,
   "metadata": {},
   "outputs": [
    {
     "ename": "TypeError",
     "evalue": "__init__() got an unexpected keyword argument 'qq'",
     "output_type": "error",
     "traceback": [
      "\u001b[0;31m\u001b[0m",
      "\u001b[0;31mTypeError\u001b[0mTraceback (most recent call last)",
      "\u001b[0;32m<ipython-input-9-0e05bae0c948>\u001b[0m in \u001b[0;36m<module>\u001b[0;34m\u001b[0m\n\u001b[0;32m----> 1\u001b[0;31m \u001b[0mclassifier\u001b[0m \u001b[0;34m=\u001b[0m \u001b[0mClassifier\u001b[0m\u001b[0;34m(\u001b[0m\u001b[0mqq\u001b[0m\u001b[0;34m=\u001b[0m\u001b[0;36m100\u001b[0m\u001b[0;34m)\u001b[0m\u001b[0;34m\u001b[0m\u001b[0;34m\u001b[0m\u001b[0m\n\u001b[0m",
      "\u001b[0;31mTypeError\u001b[0m: __init__() got an unexpected keyword argument 'qq'"
     ]
    }
   ],
   "source": [
    "classifier = Classifier(qq=100)"
   ]
  },
  {
   "cell_type": "code",
   "execution_count": null,
   "metadata": {},
   "outputs": [],
   "source": []
  }
 ],
 "metadata": {
  "kernelspec": {
   "display_name": "Python 3",
   "language": "python",
   "name": "python3"
  },
  "language_info": {
   "codemirror_mode": {
    "name": "ipython",
    "version": 3
   },
   "file_extension": ".py",
   "mimetype": "text/x-python",
   "name": "python",
   "nbconvert_exporter": "python",
   "pygments_lexer": "ipython3",
   "version": "3.6.8"
  }
 },
 "nbformat": 4,
 "nbformat_minor": 4
}

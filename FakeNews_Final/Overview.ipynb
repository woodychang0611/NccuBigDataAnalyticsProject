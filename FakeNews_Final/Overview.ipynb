{
 "cells": [
  {
   "cell_type": "markdown",
   "metadata": {},
   "source": [
    "## Overview\n",
    "### Dataset\n",
    "### Traning Phase\n",
    "### Testing Phase\n",
    "### System Design\n",
    "#### Preprocessor\n",
    "* load_training_data\n",
    "\n",
    " fit and transform\n",
    "* load_testing_data\n",
    "\n",
    " transform only\n",
    "\n",
    "#### Classifier\n",
    "* fit\n",
    " traning the model\n",
    "* predict\n",
    "\n",
    "* predict_proba\n",
    "\n",
    "## Preprocessor\n",
    "### Feature selection\n",
    "### PCA\n",
    "## Classifier\n",
    "### Model Selection\n",
    "### Hyper parameter\n",
    "## Result"
   ]
  },
  {
   "cell_type": "code",
   "execution_count": null,
   "metadata": {},
   "outputs": [],
   "source": []
  }
 ],
 "metadata": {
  "kernelspec": {
   "display_name": "Python 3",
   "language": "python",
   "name": "python3"
  },
  "language_info": {
   "codemirror_mode": {
    "name": "ipython",
    "version": 3
   },
   "file_extension": ".py",
   "mimetype": "text/x-python",
   "name": "python",
   "nbconvert_exporter": "python",
   "pygments_lexer": "ipython3",
   "version": "3.6.8"
  }
 },
 "nbformat": 4,
 "nbformat_minor": 4
}
